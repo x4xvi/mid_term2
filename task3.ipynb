{
 "cells": [
  {
   "cell_type": "code",
   "execution_count": 8,
   "id": "496045f1-a769-4d21-b056-c72a36c863b8",
   "metadata": {},
   "outputs": [
    {
     "name": "stdout",
     "output_type": "stream",
     "text": [
      "The first email is classified as: Spam\n"
     ]
    }
   ],
   "source": [
    "import pandas as pd\n",
    "from sklearn.model_selection import train_test_split\n",
    "from sklearn.linear_model import LogisticRegression\n",
    "\n",
    "# Load the spam data from a CSV file\n",
    "data = pd.read_csv(\"spam-data.csv\")\n",
    "# Split data into features and target\n",
    "X = data[['Number of Words', 'Number of Links', 'Number of Capitalized Words', 'Number of Spam Words']]\n",
    "y = data['Class']\n",
    "\n",
    "# Split the dataset into training and testing sets\n",
    "X_train, X_test, y_train, y_test = train_test_split(X, y, test_size=0.2, random_state=42)\n",
    "\n",
    "# Build and train the logistic regression model\n",
    "model = LogisticRegression()\n",
    "model.fit(X_train, y_train)\n",
    "\n",
    "# Manually extracted features from the first email in 'emails.txt'\n",
    "# For the first email: \"Subject: Quick and Easy Loan Approval...\"\n",
    "# Number of Words = 36, Number of Links = 4, Number of Capitalized Words = 5, Number of Spam Words = 5 (estimated)\n",
    "first_email_features = pd.DataFrame([[36, 4, 5, 5]], \n",
    "                                    columns=['Number of Words', 'Number of Links', 'Number of Capitalized Words', 'Number of Spam Words'])\n",
    "\n",
    "# Use the trained model to predict if the first email is spam\n",
    "prediction = model.predict(first_email_features)\n",
    "result = 'Spam' if prediction[0] == 1 else 'Not Spam'\n",
    "\n",
    "# Print the result\n",
    "print(\"The first email is classified as:\", result)\n"
   ]
  },
  {
   "cell_type": "code",
   "execution_count": null,
   "id": "ceb2893b-7e78-4076-8161-4f2cdac20f1b",
   "metadata": {},
   "outputs": [],
   "source": []
  }
 ],
 "metadata": {
  "kernelspec": {
   "display_name": "Python 3 (ipykernel)",
   "language": "python",
   "name": "python3"
  },
  "language_info": {
   "codemirror_mode": {
    "name": "ipython",
    "version": 3
   },
   "file_extension": ".py",
   "mimetype": "text/x-python",
   "name": "python",
   "nbconvert_exporter": "python",
   "pygments_lexer": "ipython3",
   "version": "3.11.7"
  }
 },
 "nbformat": 4,
 "nbformat_minor": 5
}
