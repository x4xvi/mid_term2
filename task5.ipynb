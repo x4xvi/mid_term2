{
 "cells": [
  {
   "cell_type": "code",
   "execution_count": 7,
   "id": "2520a566-478b-4430-808e-9c1ffe2d8517",
   "metadata": {},
   "outputs": [
    {
     "name": "stdout",
     "output_type": "stream",
     "text": [
      "Accuracy: 0.9310344827586207\n",
      "Email 1 is spam\n",
      "Email 2 is not spam\n",
      "Email 3 is spam\n",
      "Feature Importance:\n",
      " [('Number of Words', 0.06945489225574682), ('Number of Links', 1.0684307821133459), ('Number of Capitalized Words', 0.4759124370163708), ('Number of Spam Words', 1.294608569856821)]\n",
      "Less Important Features: ['Number of Words']\n"
     ]
    }
   ],
   "source": [
    "import pandas as pd\n",
    "import numpy as np\n",
    "from sklearn.model_selection import train_test_split\n",
    "from sklearn.linear_model import LogisticRegression\n",
    "from sklearn.metrics import accuracy_score\n",
    "import re\n",
    "\n",
    "# Step 1: Load the Data\n",
    "spam_data = pd.read_csv(\"spam-data.csv\")\n",
    "features = spam_data[['Number of Words', 'Number of Links', 'Number of Capitalized Words', 'Number of Spam Words']]\n",
    "labels = spam_data['Class']  # Ensure 'Class' is the column name for labels\n",
    "\n",
    "# Step 2: Build and Train Logistic Regression Model\n",
    "X_train, X_test, y_train, y_test = train_test_split(features, labels, test_size=0.2, random_state=42)\n",
    "model = LogisticRegression(max_iter=1000)\n",
    "model.fit(X_train, y_train)\n",
    "predictions = model.predict(X_test)\n",
    "print(\"Accuracy:\", accuracy_score(y_test, predictions))\n",
    "\n",
    "# Step 3: Parse the `emails.txt` File and Extract Features\n",
    "with open(\"emails.txt\", 'r') as file:\n",
    "    emails = file.read().split('----------------')\n",
    "\n",
    "email_features = []\n",
    "for email in emails:\n",
    "    if email.strip():  # Check if the string is not just whitespace\n",
    "        num_links = len(re.findall(r'http[s]?://\\S+', email))\n",
    "        num_words = len(re.findall(r'\\w+', email))\n",
    "        num_capitalized_words = len(re.findall(r'\\b[A-Z]{2,}\\b', email))\n",
    "        num_spam_words = len(re.findall(r'\\b(free|credit|offer|loan|winner|win|urgent)\\b', email, flags=re.I))\n",
    "        email_features.append([num_words, num_links, num_capitalized_words, num_spam_words])\n",
    "\n",
    "# Step 4: Check Emails for Spam\n",
    "email_features_df = pd.DataFrame(email_features, columns=['Number of Words', 'Number of Links', 'Number of Capitalized Words', 'Number of Spam Words'])\n",
    "email_spam_predictions = model.predict(email_features_df)\n",
    "for i, prediction in enumerate(email_spam_predictions):\n",
    "    print(f\"Email {i+1} is {'spam' if prediction else 'not spam'}\")\n",
    "\n",
    "# Step 5: Analyze the `spam-data.csv` File for Feature Importance\n",
    "feature_importance = np.abs(model.coef_[0])\n",
    "print(\"Feature Importance:\\n\", list(zip(features.columns, feature_importance)))\n",
    "threshold = 0.1  # Arbitrary threshold for low importance\n",
    "less_important_features = [features.columns[i] for i in range(len(feature_importance)) if feature_importance[i] < threshold]\n",
    "print(\"Less Important Features:\", less_important_features)\n"
   ]
  },
  {
   "cell_type": "markdown",
   "id": "a281d7fa-7744-4f88-b25c-f6aa692a4d4d",
   "metadata": {},
   "source": [
    "Model Accuracy: The logistic regression model has an accuracy of approximately 93.1%. This is a fairly high accuracy rate, indicating that the model is performing well in distinguishing between spam and non-spam emails based on the features you've used.\n",
    "\n",
    "Email Classification Results:\n",
    "\n",
    "Email 1 is classified as spam. This could be due to high counts of typical spam indicators such as the number of links, spam words, or capitalized words.\n",
    "Email 2 is classified as not spam. This suggests that the characteristics of this email did not match those typically found in spam, according to your model's learning.\n",
    "Email 3 is classified as spam. Similar to Email 1, this might exhibit more of the typical spam features.\n",
    "Feature Importance:\n",
    "\n",
    "Number of Links (1.0684) and Number of Spam Words (1.2946) are the most influential features in predicting spam. This suggests that emails with more links and typical \"spammy\" words (like \"free,\" \"winner,\" etc.) are more likely to be classified as spam.\n",
    "Number of Capitalized Words (0.4759) also plays a significant role but is less impactful compared to the number of links and spam words. It might indicate that emails with many capitalized words are more attention-grabbing and potentially suspicious, a common characteristic in spam emails.\n",
    "Number of Words (0.0695) is identified as a less important feature. This indicates that the sheer quantity of words in an email isn't a strong predictor of whether it's spam. Rather, the content and context (like links and specific words) are more critical.\n",
    "Less Important Features:\n",
    "\n",
    "'Number of Words' being less important suggests that the length of the email does not significantly influence whether an email is considered spam by  model. It's more about what the words are and how they're presented (links, capitalization, and specific spam-indicative words).\n"
   ]
  }
 ],
 "metadata": {
  "kernelspec": {
   "display_name": "Python 3 (ipykernel)",
   "language": "python",
   "name": "python3"
  },
  "language_info": {
   "codemirror_mode": {
    "name": "ipython",
    "version": 3
   },
   "file_extension": ".py",
   "mimetype": "text/x-python",
   "name": "python",
   "nbconvert_exporter": "python",
   "pygments_lexer": "ipython3",
   "version": "3.11.7"
  }
 },
 "nbformat": 4,
 "nbformat_minor": 5
}
